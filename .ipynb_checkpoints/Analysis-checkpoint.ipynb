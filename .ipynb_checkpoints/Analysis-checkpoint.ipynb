{
 "cells": [
  {
   "cell_type": "markdown",
   "id": "8fca0014",
   "metadata": {},
   "source": [
    "# Analysis of UFO Reporting Frequency in the U.S."
   ]
  },
  {
   "cell_type": "code",
   "execution_count": 71,
   "id": "53a448f4",
   "metadata": {},
   "outputs": [],
   "source": [
    "import pandas as pd\n",
    "from scipy.stats import t\n",
    "from scipy.stats import norm"
   ]
  },
  {
   "cell_type": "code",
   "execution_count": 181,
   "id": "7388ec15",
   "metadata": {},
   "outputs": [
    {
     "name": "stderr",
     "output_type": "stream",
     "text": [
      "C:\\Users\\nickc\\AppData\\Local\\Temp/ipykernel_8196/1930620687.py:7: FutureWarning: The pandas.datetime class is deprecated and will be removed from pandas in a future version. Import from datetime module instead.\n",
      "  df = df[df['Date'].between('1950-01-01', pd.datetime.today())]\n"
     ]
    }
   ],
   "source": [
    "# Grabs UFO Data, cleans it, and then finds count of reports per day\n",
    "df = pd.read_csv('UFO_Final.csv',dtype='string')\n",
    "df['Date'] = pd.to_datetime(df['Date'], errors = 'coerce')\n",
    "df['Date'] = pd.to_datetime(df['Date'], format = '%m%d%Y')\n",
    "df['Date'] = df['Date'].dt.floor('D')\n",
    "df = df[pd.notnull(df['Date'])]\n",
    "df = df[df['Date'].between('1950-01-01', pd.datetime.today())]\n",
    "counts = df.pivot_table(columns = 'Date',aggfunc='size')"
   ]
  },
  {
   "cell_type": "code",
   "execution_count": 220,
   "id": "fb90c695",
   "metadata": {},
   "outputs": [],
   "source": [
    "# Grab movie data, drop bad columns, extract df of titles / coresponding release dates.\n",
    "# Possible to filter by gross earnings?\n",
    "\n",
    "df2 = pd.read_csv('Keyword_Alien.csv')\n",
    "# clean up the movie data //// hopefully won't be necessary once you fix bugs in scrape_imdb.ipynb\n",
    "columns = ['Index','Title','IMDB_Rating','Movie_Description','Release_Date', 'Budget',\\\n",
    "              'Gross_US_Canada', 'Opening_Weekend_US_Canada', 'Gross_Worldwide']\n",
    "df2.columns = columns\n",
    "df2 = df2.drop('Index',1)\n",
    "df2 = df2.drop('Movie_Description',1)\n",
    "\n",
    "# Get days where an alien movie was released //// WHILE KEEPING THE MOVIE ATTACHED\n",
    "dates = df2['Release_Date'].values.tolist()\n",
    "titles = df2['Title'].values.tolist()\n",
    "gross_list = []\n",
    "gross = pd.DataFrame(df2['Gross_US_Canada'].values.tolist(),dtype='string')\n",
    "for idx,row in gross.iterrows():\n",
    "    if type(row[0]) == str:\n",
    "        gross_list.append(row[0].replace('$','').replace(',','').replace('(estimated)',''))\n",
    "    else:\n",
    "        gross_list.append('')\n",
    "releases = pd.DataFrame(columns = ['Title','Release_Date','Gross'])\n",
    "releases['Title'] = titles\n",
    "releases['Release_Date'] = dates\n",
    "releases['Gross'] = gross_list\n",
    "releases = releases.dropna()\n",
    "releases['Release_Date'] = pd.to_datetime(releases['Release_Date'])\n",
    "releases = releases.sort_values(by='Release_Date')"
   ]
  },
  {
   "cell_type": "markdown",
   "id": "3bd84d0a",
   "metadata": {},
   "source": [
    "## #1: Analyze counts in context of movie release dates"
   ]
  },
  {
   "cell_type": "code",
   "execution_count": 223,
   "id": "831119ac",
   "metadata": {},
   "outputs": [
    {
     "name": "stdout",
     "output_type": "stream",
     "text": [
      "2021-10-27 14:37:16.766170\n",
      "Portion of samples which saw an increase in average counts following movie release: 0.2577777777777778\n"
     ]
    }
   ],
   "source": [
    "# for each day a movie was released, find prior/post counts\n",
    "greater = 0\n",
    "lesser = 0\n",
    "increasers = []\n",
    "non_increasers = []\n",
    "# make a cutoff date about 3 months prior. Sightings are rarely posted to the site within 3 months.\n",
    "cutoff_date = pd.Timestamp.today() - pd.Timedelta(weeks=12)\n",
    "print(cutoff_date)\n",
    "for idx,row in releases.iterrows():\n",
    "    title = row['Title']\n",
    "    date = row['Release_Date']\n",
    "    \n",
    "    # check that the movie wasn't released too recently\n",
    "    if date > cutoff_date:\n",
    "        continue\n",
    "        \n",
    "    # Make range of dates n days in the past\n",
    "    prior_start = date - pd.Timedelta('60 days')\n",
    "    count = 0\n",
    "    prior_period = []\n",
    "    while count != 60:\n",
    "        prior_period.append(prior_start + pd.Timedelta(days=count))\n",
    "        count += 1\n",
    "        \n",
    "    # grab counts of all days that fall in prior_period\n",
    "    total_prior = 0\n",
    "    for day in prior_period:\n",
    "        if day in counts:\n",
    "            total_prior += counts.loc[day]\n",
    "            \n",
    "    # Make range of dates n days in the future\n",
    "    count = 1\n",
    "    post_period = []\n",
    "    while count != 61:\n",
    "        post_period.append(date + pd.Timedelta(days=count))\n",
    "        count += 1\n",
    "    \n",
    "    # grab counts of all days that fall in post_period\n",
    "    total_post = 0\n",
    "    for day in post_period:\n",
    "        if day in counts:\n",
    "            total_post += counts.loc[day]\n",
    "    \n",
    "    # skip if no reports data surrounding the movie\n",
    "    if total_prior == 0 or total_post == 0:\n",
    "        continue\n",
    "    \n",
    "    # find average of each group\n",
    "    average_prior = total_prior/len(prior_period)\n",
    "    average_post = total_post/len(post_period)\n",
    "    \n",
    "    # find sample standard deviations\n",
    "    squared_diff = 0\n",
    "    prior_samples = 0\n",
    "    for day in prior_period:\n",
    "        if day in counts:\n",
    "            squared_diff += (counts.loc[day]-average_prior)**2\n",
    "            prior_samples += 1\n",
    "    std_prior = (squared_diff/(prior_samples-1))**(0.5)\n",
    "    \n",
    "    squared_diff = 0\n",
    "    post_samples = 0\n",
    "    for day in post_period:\n",
    "        if day in counts:\n",
    "            squared_diff += (counts.loc[day]-average_post)**2\n",
    "            post_samples += 1\n",
    "    std_post = (squared_diff/(post_samples-1))**(0.5)\n",
    "            \n",
    "    standard_error = (std_prior**2/(prior_samples-1) + std_post**2/(post_samples-1))**(0.5) \n",
    "    test_statistic = (average_post-average_prior)/standard_error\n",
    "    alpha = 0.10\n",
    "    critical_value = t.ppf(1-alpha,df=post_samples+prior_samples-2)\n",
    "    rejected = test_statistic >= critical_value\n",
    "    \n",
    "    #print(f'Movie: {title}   \\nDate: {date}    \\nAverages: {average_prior} {average_post}\\\n",
    "    #Rejected = {rejected}')\n",
    "    \n",
    "    if rejected:\n",
    "        greater += 1\n",
    "        increasers.append(title)\n",
    "    else:\n",
    "        lesser += 1\n",
    "        non_increasers.append(title)\n",
    "        \n",
    "# calculate p = greater_counter/(greater_counter + lesser_counter)\n",
    "# one-tailed binomial test H0: p = 0.5 versus H1: p > 0.5\n",
    "print(f'Portion of samples which saw an increase in average counts \\\n",
    "following movie release: {greater/(greater+lesser)}')"
   ]
  },
  {
   "cell_type": "code",
   "execution_count": 224,
   "id": "51e0045c",
   "metadata": {},
   "outputs": [
    {
     "name": "stdout",
     "output_type": "stream",
     "text": [
      "Reject H_0: P = 0.5 in favor of H_1: P > 0.5: False\n",
      "Reject H_0: P = 0.5 in favor of H_1: P < 0.5: True\n"
     ]
    }
   ],
   "source": [
    "# One-tailed Binomial test: p != 0.5\n",
    "n = len(increasers)+len(non_increasers)\n",
    "k = len(increasers)\n",
    "test_stat = (k-n*.5)/(n*0.5*0.5)**(0.5)\n",
    "alpha = 0.10\n",
    "critical_value = norm.ppf(alpha)\n",
    "print(f'Reject H_0: P = 0.5 in favor of H_1: P > 0.5: {test_stat > critical_value}')\n",
    "print(f'Reject H_0: P = 0.5 in favor of H_1: P < 0.5: {test_stat < -critical_value}')"
   ]
  },
  {
   "cell_type": "code",
   "execution_count": 185,
   "id": "79e7a27e",
   "metadata": {
    "collapsed": true
   },
   "outputs": [
    {
     "name": "stdout",
     "output_type": "stream",
     "text": [
      "['Star Wars: Episode IV - A New Hope', 'Space Jam', 'Dark City', 'Star Wars: Episode I - The Phantom Menace', 'The Iron Giant', 'Battlefield Earth', 'Evolution', 'Star Wars: Episode II - Attack of the Clones', 'Lilo & Stitch', 'Men in Black II', 'Star Wars: Episode III - Revenge of the Sith', 'Mysterious Skin', 'War of the Worlds', 'Happy Feet', 'Fantastic 4: Rise of the Silver Surfer', 'Transformers', 'Aliens vs. Predator: Requiem', 'Indiana Jones and the Kingdom of the Crystal Skull', 'Star Trek', 'Transformers: Revenge of the Fallen', 'Toy Story 3', 'Attack the Block', 'Super 8', 'Green Lantern', 'Transformers: Dark of the Moon', 'John Carter', 'The Avengers', 'Battleship', 'Men in Black 3', 'Prometheus', 'The Host', 'Oblivion', 'Star Trek Into Darkness', 'After Earth', 'Man of Steel', 'Edge of Tomorrow', 'Transformers: Age of Extinction', 'Teenage Mutant Ninja Turtles: Out of the Shadows', 'Independence Day: Resurgence', 'Star Trek Beyond', 'The Space Between Us', 'Absolutely Anything', 'Alien: Covenant', 'Transformers: The Last Knight', 'It', 'Solo: A Star Wars Story', 'Attraction', 'Beyond White Space', 'Bumblebee', 'Captain Marvel', 'Captive State', 'Avengers: Endgame', 'Rim of the World', 'Brightburn', 'Sonic the Hedgehog', 'Cosmic Sin', \"Zack Snyder's Justice League\", 'The Suicide Squad']\n"
     ]
    }
   ],
   "source": [
    "print(increasers)"
   ]
  },
  {
   "cell_type": "code",
   "execution_count": 95,
   "id": "f2f94e9a",
   "metadata": {
    "collapsed": true
   },
   "outputs": [
    {
     "name": "stdout",
     "output_type": "stream",
     "text": [
      "['Solaris', 'The Holy Mountain', 'The Rocky Horror Picture Show', 'Close Encounters of the Third Kind', 'Superman', 'Invasion of the Body Snatchers', 'Phantasm', 'Alien', 'Life of Brian', 'Star Trek: The Motion Picture', 'Stalker', 'Star Wars: Episode V - The Empire Strikes Back', 'Flash Gordon', 'Superman II', 'Heavy Metal', 'Star Trek II: The Wrath of Khan', 'E.T. the Extra-Terrestrial', 'The Thing', 'Star Wars: Episode VI - Return of the Jedi', 'Krull', 'Repo Man', 'The Last Starfighter', 'The Adventures of Buckaroo Banzai Across the 8th Dimension', 'Supergirl', 'Starman', 'Lifeforce', 'Cocoon', 'Explorers', 'Enemy Mine', 'Critters', 'Aliens', 'Howard the Duck', 'Flight of the Navigator', 'From Beyond', 'The Wraith', 'Star Trek IV: The Voyage Home', 'Little Shop of Horrors', 'Predator', 'Spaceballs', 'Masters of the Universe', '*batteries not included', 'Killer Klowns from Outer Space', 'The Blob', 'Mac and Me', 'They Live', 'My Stepmother Is an Alien', 'Earth Girls Are Easy', 'Bad Taste', 'UHF', 'The Abyss', 'Total Recall', 'Predator 2', 'Highlander II: The Quickening', 'Star Trek VI: The Undiscovered Country', 'Alien 3', 'Fire in the Sky', 'Coneheads', 'Stargate', 'Mighty Morphin Power Rangers: The Movie', 'Species', 'Toy Story', 'Independence Day', 'Star Trek: First Contact', 'Mars Attacks!', 'The Fifth Element', 'Men in Black', 'Contact', 'Starship Troopers', 'Alien: Resurrection', 'Lost in Space', 'The X Files', 'Star Trek: Insurrection', 'The Faculty', 'SLC Punk!', 'Toy Story 2', 'Galaxy Quest', 'Pitch Black', 'The Flintstones in Viva Rock Vegas', 'Heavy Metal 2000', \"Dude, Where's My Car?\", 'K-PAX', 'Signs', 'Treasure Planet', 'Star Trek: Nemesis', 'Dreamcatcher', 'Scary Movie 3', 'Alien vs. Predator', \"The Hitchhiker's Guide to the Galaxy\", 'Doom', 'Zathura: A Space Adventure', 'The Invasion', 'Across the Universe', 'Cloverfield', 'Outlander', 'The Day the Earth Stood Still', 'Race to Witch Mountain', 'Knowing', 'Monsters vs. Aliens', 'Dragonball Evolution', 'District 9', 'Pandorum', 'The Fourth Kind', 'Avatar', 'Predators', 'Megamind', 'Skyline', 'Monsters', 'TRON: Legacy', 'I Am Number Four', 'Paul', 'Cowboys & Aliens', 'The Thing', 'The Darkest Hour', 'The Watch', 'Dark Skies', 'Pacific Rim', \"The World's End\", 'Riddick', \"Ender's Game\", 'The Lego Movie', 'Under the Skin', 'The Signal', 'Guardians of the Galaxy', 'Jupiter Ascending', 'Home', 'Pixels', 'Star Wars: Episode VII - The Force Awakens', 'The 5th Wave', '10 Cloverfield Lane', 'Batman v Superman: Dawn of Justice', 'Arrival', 'Rogue One: A Star Wars Story', 'Power Rangers', 'Life', 'Guardians of the Galaxy Vol. 2', 'Valerian and the City of a Thousand Planets', 'The Untamed', 'Thor: Ragnarok', 'Justice League', 'Beyond Skyline', 'Star Wars: Episode VIII - The Last Jedi', 'Annihilation', 'Pacific Rim: Uprising', 'A Quiet Place', 'Avengers: Infinity War', 'The Predator', 'Venom', 'The Lego Movie 2: The Second Part', 'Godzilla: King of the Monsters', 'X-Men: Dark Phoenix', \"The Dead Don't Die\", 'Men in Black: International', 'Toy Story 4', 'Spider-Man: Far from Home', 'Star Wars: Episode IX - The Rise of Skywalker', 'Invasion', 'The Vast of Night', 'Psycho Goreman', 'Jiu Jitsu', 'We Can Be Heroes', 'Chaos Walking', 'A Quiet Place Part II', 'Occupation: Rainfall', 'The Tomorrow War', 'Space Jam: A New Legacy', 'Venom: Let There Be Carnage', 'Dune']\n"
     ]
    }
   ],
   "source": [
    "print(non_increasers)"
   ]
  },
  {
   "cell_type": "markdown",
   "id": "a4e6d701",
   "metadata": {},
   "source": [
    "# Next Steps:\n",
    "1. Think about weighting each movie's contribution to the portion calculation based on box office performance? OR below\n",
    "2. Construct descriptive analytics for the increasers and non_increasers groups\n",
    "    average movie popularity (based on position in releases df)\n",
    "    average box office performance\n",
    "    average imdb rating\n",
    "3. Use the above to argue that the non-increasers simply weren't popular enough to influence reports freq.\n",
    "4. Overall, make observations on the results of the analysis but also offer up reasons why we might be seeing those results.  No definitive claims can be made at this point."
   ]
  },
  {
   "cell_type": "code",
   "execution_count": 32,
   "id": "b0218ddd",
   "metadata": {},
   "outputs": [],
   "source": [
    "import matplotlib.pyplot as plt"
   ]
  },
  {
   "cell_type": "markdown",
   "id": "eea84a61",
   "metadata": {},
   "source": [
    "## #2: Analysis of 'counts'"
   ]
  },
  {
   "cell_type": "code",
   "execution_count": 74,
   "id": "9cf7f20b",
   "metadata": {
    "scrolled": true
   },
   "outputs": [
    {
     "data": {
      "image/png": "[encoded data removed]",
      "text/plain": [
       "<Figure size 432x288 with 1 Axes>"
      ]
     },
     "metadata": {
      "needs_background": "light"
     },
     "output_type": "display_data"
    }
   ],
   "source": [
    "plt.plot(counts)\n",
    "plt.show()"
   ]
  },
  {
   "cell_type": "markdown",
   "id": "06196ba3",
   "metadata": {},
   "source": [
    "## #3: Analysis of increaser/non increaser groups"
   ]
  },
  {
   "cell_type": "code",
   "execution_count": 225,
   "id": "31760481",
   "metadata": {},
   "outputs": [],
   "source": [
    "inc_list = []\n",
    "for idx,row in df2.iterrows():\n",
    "    if row['Title'] in increasers:\n",
    "        inc_list.append(row)\n",
    "inc_df = pd.DataFrame(inc_list,dtype='string')\n",
    "\n",
    "dec_list = []\n",
    "for idx,row in df2.iterrows():\n",
    "    if row['Title'] in non_increasers:\n",
    "        dec_list.append(row)\n",
    "dec_df = pd.DataFrame(dec_list,dtype='string')"
   ]
  },
  {
   "cell_type": "code",
   "execution_count": 226,
   "id": "44e9bd6b",
   "metadata": {},
   "outputs": [],
   "source": [
    "inc_df = inc_df.dropna()\n",
    "inc_val_list = []\n",
    "for idx,row in inc_df.iterrows():\n",
    "    row['Gross_US_Canada'] = row['Gross_US_Canada'].replace(\"$\",\"\")\n",
    "    row['Gross_US_Canada'] = row['Gross_US_Canada'].replace(\",\",\"\")\n",
    "    row['Gross_US_Canada'] = row['Gross_US_Canada'].replace(\"(estimated)\",\"\")\n",
    "    inc_val_list.append(row['Gross_US_Canada'])\n",
    "df_inc_val = pd.DataFrame(inc_val_list,dtype='int',columns=['values'])\n",
    "\n",
    "dec_df = dec_df.dropna()\n",
    "dec_val_list = []\n",
    "for idx,row in dec_df.iterrows():\n",
    "    row['Gross_US_Canada'] = row['Gross_US_Canada'].replace(\"$\",\"\")\n",
    "    row['Gross_US_Canada'] = row['Gross_US_Canada'].replace(\",\",\"\")\n",
    "    row['Gross_US_Canada'] = row['Gross_US_Canada'].replace(\"(estimated)\",\"\")\n",
    "    dec_val_list.append(row['Gross_US_Canada'])\n",
    "df_dec_val = pd.DataFrame(dec_val_list,dtype='int',columns=['values'])"
   ]
  },
  {
   "cell_type": "code",
   "execution_count": 227,
   "id": "cab97718",
   "metadata": {},
   "outputs": [
    {
     "name": "stdout",
     "output_type": "stream",
     "text": [
      "Increaser mean boxoffice: 194440749.27450982\n",
      "Decreasers mean boxoffice: 105221718.17449665\n"
     ]
    }
   ],
   "source": [
    "print(f\"Increaser mean boxoffice: {df_inc_val['values'].mean()}\")\n",
    "print(f\"Decreasers mean boxoffice: {df_dec_val['values'].mean()}\")"
   ]
  },
  {
   "cell_type": "markdown",
   "id": "3a6dacc7",
   "metadata": {},
   "source": [
    "### The above tells me that the increasing/decreasing may have to do with box office average?"
   ]
  }
 ],
 "metadata": {
  "kernelspec": {
   "display_name": "Python 3 (ipykernel)",
   "language": "python",
   "name": "python3"
  },
  "language_info": {
   "codemirror_mode": {
    "name": "ipython",
    "version": 3
   },
   "file_extension": ".py",
   "mimetype": "text/x-python",
   "name": "python",
   "nbconvert_exporter": "python",
   "pygments_lexer": "ipython3",
   "version": "3.9.4"
  }
 },
 "nbformat": 4,
 "nbformat_minor": 5
}
