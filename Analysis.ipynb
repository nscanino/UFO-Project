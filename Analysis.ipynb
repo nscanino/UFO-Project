{
 "cells": [
  {
   "cell_type": "code",
   "execution_count": null,
   "id": "c52d13ce",
   "metadata": {},
   "outputs": [],
   "source": [
    "import pandas as pd"
   ]
  },
  {
   "cell_type": "code",
   "execution_count": null,
   "id": "a9c528e6",
   "metadata": {},
   "outputs": [],
   "source": [
    "df1 = pd.read_csv('ufo.csv')\n",
    "df2 = pd.read_csv('Alien_Movies.csv')"
   ]
  },
  {
   "cell_type": "markdown",
   "id": "663fe562",
   "metadata": {},
   "source": [
    "### UFO Data, manipulation and finding proper variables"
   ]
  },
  {
   "cell_type": "code",
   "execution_count": null,
   "id": "bb45c29a",
   "metadata": {},
   "outputs": [],
   "source": [
    "df1.head()"
   ]
  },
  {
   "cell_type": "code",
   "execution_count": null,
   "id": "abd7af1a",
   "metadata": {},
   "outputs": [],
   "source": [
    "df2.head()"
   ]
  },
  {
   "cell_type": "code",
   "execution_count": null,
   "id": "30ae1f02",
   "metadata": {},
   "outputs": [],
   "source": [
    "total_reports = len(df1)\n",
    "# alien_movies = alien_movies_all (filter by $ Made / popularity stat)\n",
    "# find daily count of reportings (order df by posted column, count movies in each cluster?)\n",
    "# for years with more than 100 total reportings nation-wide\n",
    "    # for each movie released that year in the alien_movies\n",
    "        # prior_reportings = total # of reports in the 6 months prior to the date\n",
    "        # post_reportings = total # of reports in the 6 months following the date\n",
    "        # for each group, find sample average number of reports per day\n",
    "        # two sample inference on prior/posterior H0: mu_post = mu_prior versus H1: mu_post > mu_prior\n",
    "        # if post is significantly greater than prior, affected += 1\n",
    "\n",
    "# Run one-tailed test on the affected variable \n",
    "    # (is portion of affected significantly different from 0.5?) p test, binomial (yes or no)\n",
    "    # H0: p = 0.5 versus H1: p > 0.5\n",
    "        \n",
    "        \n",
    "# Functions needed:   \n"
   ]
  },
  {
   "cell_type": "code",
   "execution_count": null,
   "id": "93d696de",
   "metadata": {},
   "outputs": [],
   "source": [
    "def get_movie_dates():\n",
    "    dates = df2.loc[:,'Date_of_Release']\n",
    "    return dates\n",
    "\n",
    "def ranking_system(df): # input is dataframe containing movie name and Description.split's \n",
    "                        # (rows are for each movie, each column rep. word 1, 2, etc. ?)\n",
    "                        # might not be feasible that way.\n",
    "    ranked_list = []\n",
    "    for i in range(10):\n",
    "        mode = df.mode('Description')\n",
    "        df.remove_all(mode)\n",
    "        ranked_list.append(f'{i+1}. {mode}')"
   ]
  },
  {
   "cell_type": "code",
   "execution_count": 2,
   "id": "75fd0717",
   "metadata": {},
   "outputs": [
    {
     "name": "stdout",
     "output_type": "stream",
     "text": [
      "NOTE: Separate values with comma, enter spaces as dashes\n",
      "Enter Keywords: outer-space\n",
      "P.S. Program will only search keyword lists one at a time.\n",
      " Pending update to allow filtering by multiple keywords at once.\n",
      "['outer-space']\n",
      "['outer_space']\n"
     ]
    }
   ],
   "source": [
    "print('NOTE: Separate values with comma, enter spaces as dashes')\n",
    "keyword_list = input('Enter Keywords: ').split(',')\n",
    "print('P.S. Program will only search keyword lists one at a time.\\n '\\\n",
    "      'Pending update to allow filtering by multiple keywords at once.')\n",
    "print(keyword_list)\n",
    "for i in range(len(keyword_list)):\n",
    "    if '-' in keyword_list[i]:\n",
    "        split = keyword_list[i].split('-')\n",
    "        keyword_list[i] = '_'.join(split)\n",
    "print(keyword_list)"
   ]
  },
  {
   "cell_type": "code",
   "execution_count": null,
   "id": "4cffab62",
   "metadata": {
    "scrolled": true
   },
   "outputs": [],
   "source": [
    "dates = get_movie_dates()\n",
    "print(dates)"
   ]
  },
  {
   "cell_type": "code",
   "execution_count": 3,
   "id": "3b09df5a",
   "metadata": {},
   "outputs": [
    {
     "name": "stdout",
     "output_type": "stream",
     "text": [
      "['elvis']\n"
     ]
    }
   ],
   "source": []
  }
 ],
 "metadata": {
  "kernelspec": {
   "display_name": "Python 3 (ipykernel)",
   "language": "python",
   "name": "python3"
  },
  "language_info": {
   "codemirror_mode": {
    "name": "ipython",
    "version": 3
   },
   "file_extension": ".py",
   "mimetype": "text/x-python",
   "name": "python",
   "nbconvert_exporter": "python",
   "pygments_lexer": "ipython3",
   "version": "3.9.4"
  }
 },
 "nbformat": 4,
 "nbformat_minor": 5
}
