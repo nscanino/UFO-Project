{
 "cells": [
  {
   "cell_type": "code",
   "execution_count": 1,
   "id": "b225c952",
   "metadata": {},
   "outputs": [],
   "source": [
    "import pandas as pd\n",
    "from bs4 import BeautifulSoup as bs\n",
    "from selenium import webdriver\n",
    "from selenium.webdriver.common.by import By\n",
    "from selenium.webdriver.common.keys import Keys\n",
    "import time"
   ]
  },
  {
   "cell_type": "code",
   "execution_count": 2,
   "id": "d1f2ef2c",
   "metadata": {},
   "outputs": [],
   "source": [
    "url = 'http://www.nuforc.org/webreports/ndxlAK.html'\n",
    "driver = webdriver.Chrome()\n",
    "soup = bs(driver.page_source,'html.parser')\n",
    "states_list = (\"AK\",\"AL\",\"AR\",\"AZ\",\"CA\",\"CO\",\"CT\",\"DC\",\"DE\",\"FL\",\"GA\",\"HI\",\"IA\",\"ID\",\n",
    "               \"IL\",\"IN\",\"KS\",\"KY\",\"LA\",\"MA\",\"MD\",\"ME\",\"MI\",\"MN\",\"MO\",\"MS\",\"MT\",\"NC\",\n",
    "               \"ND\",\"NE\",\"NH\",\"NJ\",\"NM\",\"NV\",\"NY\", \"OH\",\"OK\",\"OR\",\"PA\",\"RI\",\"SC\",\n",
    "               \"SD\",\"TN\",\"TX\",\"UT\",\"VA\",\"VT\",\"WA\",\"WI\",\"WV\",\"WY\")"
   ]
  },
  {
   "cell_type": "code",
   "execution_count": null,
   "id": "ddb07a83",
   "metadata": {},
   "outputs": [],
   "source": [
    "# Purely using Selenium driver\n",
    "big_list = []\n",
    "for state in states_list:\n",
    "    driver.get(f'http://www.nuforc.org/webreports/ndxl{state}.html')\n",
    "    rows = driver.find_elements(By.TAG_NAME,'tr')\n",
    "    for row in rows:\n",
    "        list_cols = []\n",
    "        cols = row.find_elements(By.TAG_NAME,'td')\n",
    "        for col in cols:\n",
    "            list_cols.append(col.text)\n",
    "        big_list.append(list_cols)\n",
    "driver.quit()\n",
    "df = pd.DataFrame(big_list)\n",
    "df.head(10)"
   ]
  },
  {
   "cell_type": "code",
   "execution_count": 3,
   "id": "23430ce9",
   "metadata": {},
   "outputs": [],
   "source": [
    "# Using Selenium Driver along With Beautiful Soup\n",
    "big_list = []\n",
    "for state in states_list:\n",
    "    driver.get(f'http://www.nuforc.org/webreports/ndxl{state}.html')\n",
    "    soup = bs(driver.page_source,'html.parser')\n",
    "    rows = soup.find_all('tr')\n",
    "    for row in rows:\n",
    "        list_cols = []\n",
    "        cols = row.find_all('td')\n",
    "        for col in cols:\n",
    "            list_cols.append(col.text)\n",
    "        big_list.append(list_cols)\n",
    "driver.quit()\n",
    "df = pd.DataFrame(big_list)\n",
    "df.columns = ['Event_Date','City','State','Shape','Duration','Summary','Posted']\n",
    "df.to_csv('UFO_2.csv')"
   ]
  },
  {
   "cell_type": "code",
   "execution_count": null,
   "id": "03dabf69",
   "metadata": {},
   "outputs": [],
   "source": [
    "df = pd.DataFrame(big_list)\n",
    "df.columns = ['Event_Date','City','State','Shape','Duration','Summary','Posted']\n",
    "df"
   ]
  }
 ],
 "metadata": {
  "kernelspec": {
   "display_name": "Python 3 (ipykernel)",
   "language": "python",
   "name": "python3"
  },
  "language_info": {
   "codemirror_mode": {
    "name": "ipython",
    "version": 3
   },
   "file_extension": ".py",
   "mimetype": "text/x-python",
   "name": "python",
   "nbconvert_exporter": "python",
   "pygments_lexer": "ipython3",
   "version": "3.9.4"
  }
 },
 "nbformat": 4,
 "nbformat_minor": 5
}
