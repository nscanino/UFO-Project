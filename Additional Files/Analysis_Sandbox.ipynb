{
 "cells": [
  {
   "cell_type": "code",
   "execution_count": 6,
   "id": "bf88f2c0",
   "metadata": {},
   "outputs": [],
   "source": [
    "import pandas as pd\n",
    "from datetime import datetime\n",
    "from scipy.stats import t"
   ]
  },
  {
   "cell_type": "code",
   "execution_count": 41,
   "id": "181c995c",
   "metadata": {},
   "outputs": [
    {
     "name": "stderr",
     "output_type": "stream",
     "text": [
      "C:\\Users\\nickc\\AppData\\Roaming\\Python\\Python39\\site-packages\\IPython\\core\\interactiveshell.py:3169: DtypeWarning: Columns (8) have mixed types.Specify dtype option on import or set low_memory=False.\n",
      "  has_raised = await self.run_ast_nodes(code_ast.body, cell_name,\n",
      "C:\\Users\\nickc\\AppData\\Local\\Temp/ipykernel_5424/1162302083.py:7: FutureWarning: The pandas.datetime class is deprecated and will be removed from pandas in a future version. Import from datetime module instead.\n",
      "  df = df[df['Date'].between('1900-01-01', pd.datetime.today())]\n"
     ]
    },
    {
     "data": {
      "text/html": [
       "<div>\n",
       "<style scoped>\n",
       "    .dataframe tbody tr th:only-of-type {\n",
       "        vertical-align: middle;\n",
       "    }\n",
       "\n",
       "    .dataframe tbody tr th {\n",
       "        vertical-align: top;\n",
       "    }\n",
       "\n",
       "    .dataframe thead th {\n",
       "        text-align: right;\n",
       "    }\n",
       "</style>\n",
       "<table border=\"1\" class=\"dataframe\">\n",
       "  <thead>\n",
       "    <tr style=\"text-align: right;\">\n",
       "      <th></th>\n",
       "      <th>Unnamed: 0</th>\n",
       "      <th>Date</th>\n",
       "      <th>City</th>\n",
       "      <th>State</th>\n",
       "      <th>Shape</th>\n",
       "      <th>Duration</th>\n",
       "      <th>Summary</th>\n",
       "      <th>Posted</th>\n",
       "      <th>Year</th>\n",
       "    </tr>\n",
       "  </thead>\n",
       "  <tbody>\n",
       "    <tr>\n",
       "      <th>0</th>\n",
       "      <td>0</td>\n",
       "      <td>2021-12-19</td>\n",
       "      <td>Branford</td>\n",
       "      <td>CT</td>\n",
       "      <td>Circle</td>\n",
       "      <td>NaN</td>\n",
       "      <td>See craft every evening when I get out of work...</td>\n",
       "      <td>12/19/21</td>\n",
       "      <td>2021</td>\n",
       "    </tr>\n",
       "    <tr>\n",
       "      <th>1</th>\n",
       "      <td>1</td>\n",
       "      <td>2021-12-19</td>\n",
       "      <td>Deltona</td>\n",
       "      <td>FL</td>\n",
       "      <td>Changing</td>\n",
       "      <td>1 minute, 9 seconds video</td>\n",
       "      <td>I was on Ring app in house and saw incredible ...</td>\n",
       "      <td>12/19/21</td>\n",
       "      <td>2021</td>\n",
       "    </tr>\n",
       "    <tr>\n",
       "      <th>2</th>\n",
       "      <td>2</td>\n",
       "      <td>2021-12-18</td>\n",
       "      <td>Long Beach</td>\n",
       "      <td>CA</td>\n",
       "      <td>Triangle</td>\n",
       "      <td>3-5 seconds</td>\n",
       "      <td>3 Boomerang shaped craft flying in formation</td>\n",
       "      <td>12/19/21</td>\n",
       "      <td>2021</td>\n",
       "    </tr>\n",
       "    <tr>\n",
       "      <th>3</th>\n",
       "      <td>3</td>\n",
       "      <td>2021-12-18</td>\n",
       "      <td>Charlotte</td>\n",
       "      <td>NC</td>\n",
       "      <td>Cigar</td>\n",
       "      <td>still active 12:35am</td>\n",
       "      <td>flying stick, the ends of it brighter. Recorde...</td>\n",
       "      <td>12/19/21</td>\n",
       "      <td>2021</td>\n",
       "    </tr>\n",
       "    <tr>\n",
       "      <th>4</th>\n",
       "      <td>4</td>\n",
       "      <td>2021-12-17</td>\n",
       "      <td>Traver</td>\n",
       "      <td>CA</td>\n",
       "      <td>Oval</td>\n",
       "      <td>2 hours</td>\n",
       "      <td>((HOAX))  near the Foster farms feed mill in T...</td>\n",
       "      <td>12/19/21</td>\n",
       "      <td>2021</td>\n",
       "    </tr>\n",
       "  </tbody>\n",
       "</table>\n",
       "</div>"
      ],
      "text/plain": [
       "   Unnamed: 0       Date        City State     Shape  \\\n",
       "0           0 2021-12-19    Branford    CT    Circle   \n",
       "1           1 2021-12-19     Deltona    FL  Changing   \n",
       "2           2 2021-12-18  Long Beach    CA  Triangle   \n",
       "3           3 2021-12-18   Charlotte    NC     Cigar   \n",
       "4           4 2021-12-17      Traver    CA      Oval   \n",
       "\n",
       "                    Duration  \\\n",
       "0                        NaN   \n",
       "1  1 minute, 9 seconds video   \n",
       "2                3-5 seconds   \n",
       "3       still active 12:35am   \n",
       "4                    2 hours   \n",
       "\n",
       "                                             Summary    Posted  Year  \n",
       "0  See craft every evening when I get out of work...  12/19/21  2021  \n",
       "1  I was on Ring app in house and saw incredible ...  12/19/21  2021  \n",
       "2       3 Boomerang shaped craft flying in formation  12/19/21  2021  \n",
       "3  flying stick, the ends of it brighter. Recorde...  12/19/21  2021  \n",
       "4  ((HOAX))  near the Foster farms feed mill in T...  12/19/21  2021  "
      ]
     },
     "execution_count": 41,
     "metadata": {},
     "output_type": "execute_result"
    }
   ],
   "source": [
    "# clean reports data / only use rows with a valid date\n",
    "df = pd.read_csv('UFO_Final.csv')\n",
    "df['Date'] = pd.to_datetime(df['Date'], errors = 'coerce')\n",
    "df['Date'] = pd.to_datetime(df['Date'], format = '%m%d%Y')\n",
    "df['Date'] = df['Date'].dt.floor('D')\n",
    "df = df[pd.notnull(df['Date'])]\n",
    "df = df[df['Date'].between('1900-01-01', pd.datetime.today())]\n",
    "df.head()"
   ]
  },
  {
   "cell_type": "markdown",
   "id": "3360d339",
   "metadata": {},
   "source": [
    "# Getting ufo_final:"
   ]
  },
  {
   "cell_type": "code",
   "execution_count": 1,
   "id": "0f88a0a6",
   "metadata": {},
   "outputs": [],
   "source": [
    "from bs4 import BeautifulSoup as bs\n",
    "from selenium import webdriver\n",
    "from selenium.webdriver.common.by import By\n",
    "from selenium.webdriver.common.keys import Keys\n",
    "import time\n",
    "import pandas as pd"
   ]
  },
  {
   "cell_type": "code",
   "execution_count": 2,
   "id": "1cfb48b8",
   "metadata": {},
   "outputs": [],
   "source": [
    "url = 'http://www.nuforc.org/webreports/ndxevent.html'\n",
    "driver = webdriver.Chrome()\n",
    "driver.get(url)"
   ]
  },
  {
   "cell_type": "code",
   "execution_count": 3,
   "id": "ce10f677",
   "metadata": {},
   "outputs": [],
   "source": [
    "# Get data from NUFORC via the by event date month page\n",
    "table = driver.find_elements(By.TAG_NAME,'tr')\n",
    "big_list = []\n",
    "for i in range(len(table[1:])):\n",
    "    table = driver.find_elements(By.TAG_NAME,'tr')\n",
    "    data = table[i+1].find_element(By.TAG_NAME,'td')\n",
    "    year = data.text.split('/')[-1]\n",
    "    link = data.find_element(By.TAG_NAME,'a')\n",
    "    link.click()\n",
    "    soup = bs(driver.page_source,'html.parser')\n",
    "    soup = bs(driver.page_source,'html.parser')\n",
    "    table_onpage = soup.find('tbody')\n",
    "    rows = table_onpage.find_all('tr')\n",
    "    for row in rows:\n",
    "        list_cols = []\n",
    "        cols = row.find_all('td')\n",
    "        for col in cols:\n",
    "            list_cols.append(col.text)\n",
    "        list_cols.append(year)\n",
    "        big_list.append(list_cols)\n",
    "    driver.back()\n",
    "driver.quit()\n",
    "df = pd.DataFrame(big_list)\n",
    "df.columns = ['Date','City','State','Shape','Duration','Summary','Posted','Year']"
   ]
  },
  {
   "cell_type": "code",
   "execution_count": 4,
   "id": "f7886417",
   "metadata": {},
   "outputs": [],
   "source": [
    "df.to_csv('UFO_Final.csv')"
   ]
  }
 ],
 "metadata": {
  "kernelspec": {
   "display_name": "Python 3 (ipykernel)",
   "language": "python",
   "name": "python3"
  },
  "language_info": {
   "codemirror_mode": {
    "name": "ipython",
    "version": 3
   },
   "file_extension": ".py",
   "mimetype": "text/x-python",
   "name": "python",
   "nbconvert_exporter": "python",
   "pygments_lexer": "ipython3",
   "version": "3.9.4"
  }
 },
 "nbformat": 4,
 "nbformat_minor": 5
}
